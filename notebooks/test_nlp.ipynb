{
 "cells": [
  {
   "cell_type": "code",
   "execution_count": 1,
   "metadata": {},
   "outputs": [
    {
     "name": "stdout",
     "output_type": "stream",
     "text": [
      "c:\\Users\\Hasan\\Work\\akrule\\notebooks\n",
      "c:\\Users\\Hasan\\Work\\akrule\n"
     ]
    }
   ],
   "source": [
    "import os\n",
    "print(os.path.abspath(\"./\"))\n",
    "print(os.path.abspath(\"../\"))\n",
    "\n",
    "import sys\n",
    "sys.path.append(\"../\")"
   ]
  },
  {
   "cell_type": "code",
   "execution_count": 2,
   "metadata": {},
   "outputs": [
    {
     "name": "stdout",
     "output_type": "stream",
     "text": [
      "3.7.5\n",
      "1.3.2\n",
      "0.8.5\n"
     ]
    }
   ],
   "source": [
    "import spacy\n",
    "import sklearn\n",
    "import kneed\n",
    "\n",
    "print(spacy.__version__)\n",
    "print(sklearn.__version__)\n",
    "print(kneed.__version__)"
   ]
  },
  {
   "cell_type": "code",
   "execution_count": 3,
   "metadata": {},
   "outputs": [],
   "source": [
    "from akrule.nlp import AKCosSimNLP\n",
    "\n",
    "import numpy as np\n",
    "import pandas as pd"
   ]
  },
  {
   "cell_type": "markdown",
   "metadata": {},
   "source": [
    "# Data Prepration"
   ]
  },
  {
   "cell_type": "code",
   "execution_count": 4,
   "metadata": {},
   "outputs": [
    {
     "data": {
      "text/html": [
       "<div>\n",
       "<style scoped>\n",
       "    .dataframe tbody tr th:only-of-type {\n",
       "        vertical-align: middle;\n",
       "    }\n",
       "\n",
       "    .dataframe tbody tr th {\n",
       "        vertical-align: top;\n",
       "    }\n",
       "\n",
       "    .dataframe thead th {\n",
       "        text-align: right;\n",
       "    }\n",
       "</style>\n",
       "<table border=\"1\" class=\"dataframe\">\n",
       "  <thead>\n",
       "    <tr style=\"text-align: right;\">\n",
       "      <th></th>\n",
       "      <th>TEXT</th>\n",
       "    </tr>\n",
       "  </thead>\n",
       "  <tbody>\n",
       "    <tr>\n",
       "      <th>0</th>\n",
       "      <td>The running back broke through the football de...</td>\n",
       "    </tr>\n",
       "    <tr>\n",
       "      <th>1</th>\n",
       "      <td>The point guard executed a perfect pass, leadi...</td>\n",
       "    </tr>\n",
       "    <tr>\n",
       "      <th>2</th>\n",
       "      <td>The football coach praised the football player...</td>\n",
       "    </tr>\n",
       "    <tr>\n",
       "      <th>3</th>\n",
       "      <td>The basketball coach emphasized the importance...</td>\n",
       "    </tr>\n",
       "    <tr>\n",
       "      <th>4</th>\n",
       "      <td>During the final quarter, the basketball crowd...</td>\n",
       "    </tr>\n",
       "  </tbody>\n",
       "</table>\n",
       "</div>"
      ],
      "text/plain": [
       "                                                TEXT\n",
       "0  The running back broke through the football de...\n",
       "1  The point guard executed a perfect pass, leadi...\n",
       "2  The football coach praised the football player...\n",
       "3  The basketball coach emphasized the importance...\n",
       "4  During the final quarter, the basketball crowd..."
      ]
     },
     "execution_count": 4,
     "metadata": {},
     "output_type": "execute_result"
    }
   ],
   "source": [
    "values = [\n",
    "    \"The running back broke through the football defense and scored a 20-yard football touchdown.\",\n",
    "    \"The point guard executed a perfect pass, leading to a three-point basketball shot.\",\n",
    "    \"The football coach praised the football players for their dedication and hard work during football practice.\",\n",
    "    \"The basketball coach emphasized the importance of teamwork and communication on the basketball court.\",\n",
    "    \"During the final quarter, the basketball crowd cheered as the underdog team took the lead.\",\n",
    "    \"The football quarterback threw a touchdown pass that secured the win for his football team.\",\n",
    "    \"The football defense managed to intercept the ball, turning the football game around.\",\n",
    "    \"The basketball game ended with an impressive slam dunk by the star basketball player.\",\n",
    "    \"The team’s defense was tight, preventing the opponents from scoring any easy basketball baskets.\",\n",
    "    \"The football match was intense, with both football teams giving their best until the final football whistle.\"\n",
    "]\n",
    "df = pd.DataFrame(values, columns=[\"TEXT\"])\n",
    "df.head()"
   ]
  },
  {
   "cell_type": "markdown",
   "metadata": {},
   "source": [
    "# Test"
   ]
  },
  {
   "cell_type": "code",
   "execution_count": 6,
   "metadata": {},
   "outputs": [
    {
     "data": {
      "text/html": [
       "<div>\n",
       "<style scoped>\n",
       "    .dataframe tbody tr th:only-of-type {\n",
       "        vertical-align: middle;\n",
       "    }\n",
       "\n",
       "    .dataframe tbody tr th {\n",
       "        vertical-align: top;\n",
       "    }\n",
       "\n",
       "    .dataframe thead th {\n",
       "        text-align: right;\n",
       "    }\n",
       "</style>\n",
       "<table border=\"1\" class=\"dataframe\">\n",
       "  <thead>\n",
       "    <tr style=\"text-align: right;\">\n",
       "      <th></th>\n",
       "      <th>TEXT</th>\n",
       "      <th>CLEAN_TEXT</th>\n",
       "    </tr>\n",
       "  </thead>\n",
       "  <tbody>\n",
       "    <tr>\n",
       "      <th>0</th>\n",
       "      <td>The running back broke through the football de...</td>\n",
       "      <td>run break football defense score yard football...</td>\n",
       "    </tr>\n",
       "    <tr>\n",
       "      <th>1</th>\n",
       "      <td>The point guard executed a perfect pass, leadi...</td>\n",
       "      <td>point guard execute perfect pass lead point ba...</td>\n",
       "    </tr>\n",
       "    <tr>\n",
       "      <th>2</th>\n",
       "      <td>The football coach praised the football player...</td>\n",
       "      <td>football coach praise football player dedicati...</td>\n",
       "    </tr>\n",
       "    <tr>\n",
       "      <th>3</th>\n",
       "      <td>The basketball coach emphasized the importance...</td>\n",
       "      <td>basketball coach emphasize importance teamwork...</td>\n",
       "    </tr>\n",
       "    <tr>\n",
       "      <th>4</th>\n",
       "      <td>During the final quarter, the basketball crowd...</td>\n",
       "      <td>final quarter basketball crowd cheer underdog ...</td>\n",
       "    </tr>\n",
       "  </tbody>\n",
       "</table>\n",
       "</div>"
      ],
      "text/plain": [
       "                                                TEXT  \\\n",
       "0  The running back broke through the football de...   \n",
       "1  The point guard executed a perfect pass, leadi...   \n",
       "2  The football coach praised the football player...   \n",
       "3  The basketball coach emphasized the importance...   \n",
       "4  During the final quarter, the basketball crowd...   \n",
       "\n",
       "                                          CLEAN_TEXT  \n",
       "0  run break football defense score yard football...  \n",
       "1  point guard execute perfect pass lead point ba...  \n",
       "2  football coach praise football player dedicati...  \n",
       "3  basketball coach emphasize importance teamwork...  \n",
       "4  final quarter basketball crowd cheer underdog ...  "
      ]
     },
     "execution_count": 6,
     "metadata": {},
     "output_type": "execute_result"
    }
   ],
   "source": [
    "model = AKCosSimNLP(data=df)\n",
    "X = model.fit_transform(df[\"TEXT\"])\n",
    "df[\"CLEAN_TEXT\"] = X\n",
    "df.head()"
   ]
  },
  {
   "cell_type": "code",
   "execution_count": 9,
   "metadata": {},
   "outputs": [
    {
     "data": {
      "text/html": [
       "<div>\n",
       "<style scoped>\n",
       "    .dataframe tbody tr th:only-of-type {\n",
       "        vertical-align: middle;\n",
       "    }\n",
       "\n",
       "    .dataframe tbody tr th {\n",
       "        vertical-align: top;\n",
       "    }\n",
       "\n",
       "    .dataframe thead th {\n",
       "        text-align: right;\n",
       "    }\n",
       "</style>\n",
       "<table border=\"1\" class=\"dataframe\">\n",
       "  <thead>\n",
       "    <tr style=\"text-align: right;\">\n",
       "      <th></th>\n",
       "      <th>TEXT</th>\n",
       "      <th>CLEAN_TEXT</th>\n",
       "      <th>COS_SIMILARITY</th>\n",
       "    </tr>\n",
       "  </thead>\n",
       "  <tbody>\n",
       "    <tr>\n",
       "      <th>9</th>\n",
       "      <td>The football match was intense, with both foot...</td>\n",
       "      <td>football match intense football team give good...</td>\n",
       "      <td>1.000000</td>\n",
       "    </tr>\n",
       "    <tr>\n",
       "      <th>6</th>\n",
       "      <td>The football defense managed to intercept the ...</td>\n",
       "      <td>football defense manage intercept ball turn fo...</td>\n",
       "      <td>0.957756</td>\n",
       "    </tr>\n",
       "    <tr>\n",
       "      <th>2</th>\n",
       "      <td>The football coach praised the football player...</td>\n",
       "      <td>football coach praise football player dedicati...</td>\n",
       "      <td>0.943968</td>\n",
       "    </tr>\n",
       "    <tr>\n",
       "      <th>5</th>\n",
       "      <td>The football quarterback threw a touchdown pas...</td>\n",
       "      <td>football quarterback throw touchdown pass secu...</td>\n",
       "      <td>0.912476</td>\n",
       "    </tr>\n",
       "    <tr>\n",
       "      <th>0</th>\n",
       "      <td>The running back broke through the football de...</td>\n",
       "      <td>run break football defense score yard football...</td>\n",
       "      <td>0.828804</td>\n",
       "    </tr>\n",
       "    <tr>\n",
       "      <th>4</th>\n",
       "      <td>During the final quarter, the basketball crowd...</td>\n",
       "      <td>final quarter basketball crowd cheer underdog ...</td>\n",
       "      <td>0.285250</td>\n",
       "    </tr>\n",
       "    <tr>\n",
       "      <th>8</th>\n",
       "      <td>The team’s defense was tight, preventing the o...</td>\n",
       "      <td>team defense tight prevent opponent score easy...</td>\n",
       "      <td>0.002809</td>\n",
       "    </tr>\n",
       "    <tr>\n",
       "      <th>3</th>\n",
       "      <td>The basketball coach emphasized the importance...</td>\n",
       "      <td>basketball coach emphasize importance teamwork...</td>\n",
       "      <td>0.001186</td>\n",
       "    </tr>\n",
       "    <tr>\n",
       "      <th>1</th>\n",
       "      <td>The point guard executed a perfect pass, leadi...</td>\n",
       "      <td>point guard execute perfect pass lead point ba...</td>\n",
       "      <td>0.000000</td>\n",
       "    </tr>\n",
       "    <tr>\n",
       "      <th>7</th>\n",
       "      <td>The basketball game ended with an impressive s...</td>\n",
       "      <td>basketball game end impressive slam dunk star ...</td>\n",
       "      <td>0.000000</td>\n",
       "    </tr>\n",
       "  </tbody>\n",
       "</table>\n",
       "</div>"
      ],
      "text/plain": [
       "                                                TEXT  \\\n",
       "9  The football match was intense, with both foot...   \n",
       "6  The football defense managed to intercept the ...   \n",
       "2  The football coach praised the football player...   \n",
       "5  The football quarterback threw a touchdown pas...   \n",
       "0  The running back broke through the football de...   \n",
       "4  During the final quarter, the basketball crowd...   \n",
       "8  The team’s defense was tight, preventing the o...   \n",
       "3  The basketball coach emphasized the importance...   \n",
       "1  The point guard executed a perfect pass, leadi...   \n",
       "7  The basketball game ended with an impressive s...   \n",
       "\n",
       "                                          CLEAN_TEXT  COS_SIMILARITY  \n",
       "9  football match intense football team give good...        1.000000  \n",
       "6  football defense manage intercept ball turn fo...        0.957756  \n",
       "2  football coach praise football player dedicati...        0.943968  \n",
       "5  football quarterback throw touchdown pass secu...        0.912476  \n",
       "0  run break football defense score yard football...        0.828804  \n",
       "4  final quarter basketball crowd cheer underdog ...        0.285250  \n",
       "8  team defense tight prevent opponent score easy...        0.002809  \n",
       "3  basketball coach emphasize importance teamwork...        0.001186  \n",
       "1  point guard execute perfect pass lead point ba...        0.000000  \n",
       "7  basketball game end impressive slam dunk star ...        0.000000  "
      ]
     },
     "execution_count": 9,
     "metadata": {},
     "output_type": "execute_result"
    }
   ],
   "source": [
    "text = \"The football match was intense, with both football teams giving their best until the final football whistle.\"\n",
    "X_pred = model.predict(text)\n",
    "X_pred.head(10)"
   ]
  },
  {
   "cell_type": "code",
   "execution_count": null,
   "metadata": {},
   "outputs": [],
   "source": []
  }
 ],
 "metadata": {
  "kernelspec": {
   "display_name": "akrule",
   "language": "python",
   "name": "python3"
  },
  "language_info": {
   "codemirror_mode": {
    "name": "ipython",
    "version": 3
   },
   "file_extension": ".py",
   "mimetype": "text/x-python",
   "name": "python",
   "nbconvert_exporter": "python",
   "pygments_lexer": "ipython3",
   "version": "3.9.0"
  }
 },
 "nbformat": 4,
 "nbformat_minor": 2
}
